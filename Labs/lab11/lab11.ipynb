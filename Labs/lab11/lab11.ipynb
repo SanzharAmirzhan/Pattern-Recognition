{
 "cells": [
  {
   "cell_type": "markdown",
   "metadata": {},
   "source": [
    "## Keras plus TensorFlow\n",
    "### Installation Instructions\n",
    "* TensorFlow (not GPU) https://www.tensorflow.org/install/install_windows\n",
    "* Keras https://keras.io/#installation\n",
    "### Task: There are diabetics dataset example. Do the same with Iris dataset or your project data\n"
   ]
  },
  {
   "cell_type": "markdown",
   "metadata": {},
   "source": [
    "### Codebook\n",
    "   1. Number of times pregnant\n",
    "   2. Plasma glucose concentration a 2 hours in an oral glucose tolerance test\n",
    "   3. Diastolic blood pressure (mm Hg)\n",
    "   4. Triceps skin fold thickness (mm)\n",
    "   5. 2-Hour serum insulin (mu U/ml)\n",
    "   6. Body mass index (weight in kg/(height in m)^2)\n",
    "   7. Diabetes pedigree function\n",
    "   8. Age (years)\n",
    "   9. Class variable (0 or 1)"
   ]
  },
  {
   "cell_type": "code",
   "execution_count": 1,
   "metadata": {
    "scrolled": true
   },
   "outputs": [
    {
     "name": "stderr",
     "output_type": "stream",
     "text": [
      "Using TensorFlow backend.\n"
     ]
    }
   ],
   "source": [
    "# Create first network with Keras\n",
    "import numpy as np\n",
    "from keras.models import Sequential\n",
    "from keras.layers import Dense"
   ]
  },
  {
   "cell_type": "code",
   "execution_count": null,
   "metadata": {},
   "outputs": [],
   "source": [
    "# fix random seed for reproducibility\n",
    "seed = 7\n",
    "numpy.random.seed(seed)\n",
    "# load pima indians dataset\n",
    "dataset = numpy.loadtxt(\"pima-indians-diabetes.data\", delimiter=\",\")\n",
    "# split into input (X) and output (Y) variables\n",
    "X = dataset[:,0:8]\n",
    "Y = dataset[:,8]\n",
    "# create model\n",
    "model = Sequential()\n",
    "model.add(Dense(12, input_dim=8, init='uniform', activation='relu'))\n",
    "model.add(Dense(8, init='uniform', activation='relu'))\n",
    "model.add(Dense(1, init='uniform', activation='sigmoid'))\n",
    "# Compile model\n",
    "model.compile(loss='binary_crossentropy', optimizer='adam', metrics=['accuracy'])\n",
    "# Fit the model\n",
    "model.fit(X, Y, epochs=150, batch_size=10,  verbose=2)\n",
    "# calculate predictions\n",
    "predictions = model.predict(X)\n",
    "# round predictions\n",
    "rounded = [round(x[0]) for x in predictions]\n",
    "print(rounded)"
   ]
  },
  {
   "cell_type": "code",
   "execution_count": null,
   "metadata": {
    "collapsed": true
   },
   "outputs": [],
   "source": []
  },
  {
   "cell_type": "code",
   "execution_count": 2,
   "metadata": {
    "collapsed": true
   },
   "outputs": [],
   "source": [
    "from sklearn.datasets import load_iris"
   ]
  },
  {
   "cell_type": "code",
   "execution_count": 3,
   "metadata": {},
   "outputs": [],
   "source": [
    "from keras.utils.np_utils import to_categorical\n",
    "from sklearn.model_selection import train_test_split\n",
    "X = load_iris()['data']\n",
    "y = load_iris()['target']"
   ]
  },
  {
   "cell_type": "code",
   "execution_count": 4,
   "metadata": {
    "collapsed": true
   },
   "outputs": [],
   "source": [
    "X_train, X_test, y_train, y_test = train_test_split(X, y, test_size=0.33, stratify=y)"
   ]
  },
  {
   "cell_type": "code",
   "execution_count": 5,
   "metadata": {
    "collapsed": true
   },
   "outputs": [],
   "source": [
    "y = to_categorical(y)\n",
    "y_true = y_test.copy()\n",
    "y_train = to_categorical(y_train)\n",
    "y_test = to_categorical(y_test)"
   ]
  },
  {
   "cell_type": "code",
   "execution_count": 6,
   "metadata": {},
   "outputs": [
    {
     "name": "stderr",
     "output_type": "stream",
     "text": [
      "/Users/sanzhar/.virtualenvs/ml/lib/python3.6/site-packages/ipykernel/__main__.py:10: UserWarning: Update your `Dense` call to the Keras 2 API: `Dense(12, input_dim=4, activation=\"relu\", kernel_initializer=\"random_uniform\")`\n",
      "/Users/sanzhar/.virtualenvs/ml/lib/python3.6/site-packages/ipykernel/__main__.py:11: UserWarning: Update your `Dense` call to the Keras 2 API: `Dense(8, activation=\"relu\", kernel_initializer=\"random_uniform\")`\n",
      "/Users/sanzhar/.virtualenvs/ml/lib/python3.6/site-packages/ipykernel/__main__.py:12: UserWarning: Update your `Dense` call to the Keras 2 API: `Dense(3, activation=\"sigmoid\", kernel_initializer=\"random_uniform\")`\n"
     ]
    },
    {
     "name": "stdout",
     "output_type": "stream",
     "text": [
      "Epoch 1/50\n",
      "100/100 [==============================] - 0s - loss: 1.0988 - acc: 0.3400     \n",
      "Epoch 2/50\n",
      "100/100 [==============================] - 0s - loss: 1.0986 - acc: 0.3400     \n",
      "Epoch 3/50\n",
      "100/100 [==============================] - 0s - loss: 1.0986 - acc: 0.3400     \n",
      "Epoch 4/50\n",
      "100/100 [==============================] - 0s - loss: 1.0985 - acc: 0.3400     \n",
      "Epoch 5/50\n",
      "100/100 [==============================] - 0s - loss: 1.0984 - acc: 0.3400     \n",
      "Epoch 6/50\n",
      "100/100 [==============================] - 0s - loss: 1.0984 - acc: 0.3400     \n",
      "Epoch 7/50\n",
      "100/100 [==============================] - 0s - loss: 1.0983 - acc: 0.3400     \n",
      "Epoch 8/50\n",
      "100/100 [==============================] - 0s - loss: 1.0981 - acc: 0.3400     \n",
      "Epoch 9/50\n",
      "100/100 [==============================] - 0s - loss: 1.0979 - acc: 0.3400     \n",
      "Epoch 10/50\n",
      "100/100 [==============================] - 0s - loss: 1.0977 - acc: 0.3400     \n",
      "Epoch 11/50\n",
      "100/100 [==============================] - 0s - loss: 1.0974 - acc: 0.3400     \n",
      "Epoch 12/50\n",
      "100/100 [==============================] - 0s - loss: 1.0970 - acc: 0.3600     \n",
      "Epoch 13/50\n",
      "100/100 [==============================] - 0s - loss: 1.0964 - acc: 0.3800     \n",
      "Epoch 14/50\n",
      "100/100 [==============================] - 0s - loss: 1.0957 - acc: 0.3600     \n",
      "Epoch 15/50\n",
      "100/100 [==============================] - 0s - loss: 1.0949 - acc: 0.3600     \n",
      "Epoch 16/50\n",
      "100/100 [==============================] - 0s - loss: 1.0939 - acc: 0.3700     \n",
      "Epoch 17/50\n",
      "100/100 [==============================] - 0s - loss: 1.0926 - acc: 0.5400     \n",
      "Epoch 18/50\n",
      "100/100 [==============================] - 0s - loss: 1.0910 - acc: 0.6200     \n",
      "Epoch 19/50\n",
      "100/100 [==============================] - 0s - loss: 1.0892 - acc: 0.6200     \n",
      "Epoch 20/50\n",
      "100/100 [==============================] - 0s - loss: 1.0870 - acc: 0.6200     \n",
      "Epoch 21/50\n",
      "100/100 [==============================] - 0s - loss: 1.0844 - acc: 0.6200     \n",
      "Epoch 22/50\n",
      "100/100 [==============================] - 0s - loss: 1.0813 - acc: 0.6200     \n",
      "Epoch 23/50\n",
      "100/100 [==============================] - 0s - loss: 1.0776 - acc: 0.6200     \n",
      "Epoch 24/50\n",
      "100/100 [==============================] - 0s - loss: 1.0740 - acc: 0.6200     \n",
      "Epoch 25/50\n",
      "100/100 [==============================] - 0s - loss: 1.0695 - acc: 0.6200     \n",
      "Epoch 26/50\n",
      "100/100 [==============================] - 0s - loss: 1.0645 - acc: 0.6200     \n",
      "Epoch 27/50\n",
      "100/100 [==============================] - 0s - loss: 1.0589 - acc: 0.6200     \n",
      "Epoch 28/50\n",
      "100/100 [==============================] - 0s - loss: 1.0533 - acc: 0.6200     \n",
      "Epoch 29/50\n",
      "100/100 [==============================] - 0s - loss: 1.0465 - acc: 0.6500     \n",
      "Epoch 30/50\n",
      "100/100 [==============================] - 0s - loss: 1.0400 - acc: 0.6700     \n",
      "Epoch 31/50\n",
      "100/100 [==============================] - 0s - loss: 1.0326 - acc: 0.6700     \n",
      "Epoch 32/50\n",
      "100/100 [==============================] - 0s - loss: 1.0246 - acc: 0.6700     \n",
      "Epoch 33/50\n",
      "100/100 [==============================] - 0s - loss: 1.0166 - acc: 0.6700     \n",
      "Epoch 34/50\n",
      "100/100 [==============================] - 0s - loss: 1.0070 - acc: 0.6700     \n",
      "Epoch 35/50\n",
      "100/100 [==============================] - 0s - loss: 0.9973 - acc: 0.6700     \n",
      "Epoch 36/50\n",
      "100/100 [==============================] - 0s - loss: 0.9878 - acc: 0.6700     \n",
      "Epoch 37/50\n",
      "100/100 [==============================] - 0s - loss: 0.9765 - acc: 0.6700     \n",
      "Epoch 38/50\n",
      "100/100 [==============================] - 0s - loss: 0.9659 - acc: 0.6700     \n",
      "Epoch 39/50\n",
      "100/100 [==============================] - 0s - loss: 0.9541 - acc: 0.6700     \n",
      "Epoch 40/50\n",
      "100/100 [==============================] - 0s - loss: 0.9427 - acc: 0.6700     \n",
      "Epoch 41/50\n",
      "100/100 [==============================] - 0s - loss: 0.9313 - acc: 0.6700     \n",
      "Epoch 42/50\n",
      "100/100 [==============================] - 0s - loss: 0.9192 - acc: 0.6700     \n",
      "Epoch 43/50\n",
      "100/100 [==============================] - 0s - loss: 0.9059 - acc: 0.6700     \n",
      "Epoch 44/50\n",
      "100/100 [==============================] - 0s - loss: 0.8940 - acc: 0.6700     \n",
      "Epoch 45/50\n",
      "100/100 [==============================] - 0s - loss: 0.8816 - acc: 0.6700     \n",
      "Epoch 46/50\n",
      "100/100 [==============================] - 0s - loss: 0.8690 - acc: 0.6700     \n",
      "Epoch 47/50\n",
      "100/100 [==============================] - 0s - loss: 0.8570 - acc: 0.6700     \n",
      "Epoch 48/50\n",
      "100/100 [==============================] - 0s - loss: 0.8444 - acc: 0.6700     \n",
      "Epoch 49/50\n",
      "100/100 [==============================] - 0s - loss: 0.8328 - acc: 0.6700     \n",
      "Epoch 50/50\n",
      "100/100 [==============================] - 0s - loss: 0.8207 - acc: 0.6700     \n"
     ]
    }
   ],
   "source": [
    "from keras.models import Sequential\n",
    "from keras.layers import Dense\n",
    "import numpy\n",
    "\n",
    "seed = 10\n",
    "numpy.random.seed(seed)\n",
    "\n",
    "# create model\n",
    "model = Sequential()\n",
    "model.add(Dense(12, input_dim=4, init='random_uniform', activation='relu'))\n",
    "model.add(Dense(8, init='random_uniform', activation='relu'))\n",
    "model.add(Dense(3, init='random_uniform', activation='sigmoid'))\n",
    "# Compile model\n",
    "model.compile(loss='categorical_crossentropy', optimizer='adam', metrics=['accuracy'])\n",
    "# Fit the model\n",
    "model.fit(X_train, y_train, epochs=50, batch_size=40,  verbose=1)\n",
    "# calculate predictions\n",
    "predictions = model.predict(X_train)"
   ]
  },
  {
   "cell_type": "code",
   "execution_count": 7,
   "metadata": {},
   "outputs": [
    {
     "name": "stdout",
     "output_type": "stream",
     "text": [
      "\r",
      "32/50 [==================>...........] - ETA: 0s"
     ]
    }
   ],
   "source": [
    "a = model.predict_classes(np.array(X_test))"
   ]
  },
  {
   "cell_type": "code",
   "execution_count": 8,
   "metadata": {},
   "outputs": [
    {
     "data": {
      "text/plain": [
       "array([1, 0, 0, 1, 1, 2, 2, 1, 2, 2, 1, 1, 2, 1, 1, 1, 1, 1, 0, 0, 1, 2, 2,\n",
       "       2, 0, 1, 2, 1, 1, 1, 2, 0, 1, 0, 0, 0, 0, 0, 2, 0, 0, 0, 0, 2, 2, 2,\n",
       "       2, 0, 2, 2])"
      ]
     },
     "execution_count": 8,
     "metadata": {},
     "output_type": "execute_result"
    }
   ],
   "source": [
    "y_true"
   ]
  },
  {
   "cell_type": "code",
   "execution_count": 9,
   "metadata": {},
   "outputs": [
    {
     "data": {
      "text/plain": [
       "array([2, 0, 0, 2, 2, 2, 2, 2, 2, 2, 0, 0, 2, 2, 2, 2, 2, 2, 0, 0, 2, 2, 2,\n",
       "       2, 0, 2, 2, 0, 2, 2, 2, 0, 2, 0, 0, 0, 0, 0, 2, 0, 0, 0, 0, 2, 2, 2,\n",
       "       2, 0, 2, 2])"
      ]
     },
     "execution_count": 9,
     "metadata": {},
     "output_type": "execute_result"
    }
   ],
   "source": [
    "a"
   ]
  },
  {
   "cell_type": "code",
   "execution_count": 10,
   "metadata": {},
   "outputs": [],
   "source": [
    "cols = []\n",
    "for i in range(len(a)):\n",
    "    if(a[i] == y_true[i]):\n",
    "        cols.append('green')\n",
    "    else:\n",
    "        cols.append('red')"
   ]
  },
  {
   "cell_type": "code",
   "execution_count": 11,
   "metadata": {
    "collapsed": true
   },
   "outputs": [],
   "source": [
    "import matplotlib.pyplot as plt\n",
    "import seaborn as sns\n",
    "sns.set()\n",
    "%matplotlib inline"
   ]
  },
  {
   "cell_type": "code",
   "execution_count": 12,
   "metadata": {},
   "outputs": [
    {
     "data": {
      "image/png": "[encoded data removed]",
      "text/plain": [
       "<matplotlib.figure.Figure at 0x11b6483c8>"
      ]
     },
     "metadata": {},
     "output_type": "display_data"
    }
   ],
   "source": [
    "plt.scatter(X[:,0], X[:,1], c=cols)\n",
    "plt.show()"
   ]
  },
  {
   "cell_type": "code",
   "execution_count": null,
   "metadata": {
    "collapsed": true
   },
   "outputs": [],
   "source": []
  },
  {
   "cell_type": "code",
   "execution_count": 13,
   "metadata": {
    "collapsed": true
   },
   "outputs": [],
   "source": [
    "f = {}\n",
    "for i in range(len(a)):\n",
    "    if(a[i] not in f.keys()):\n",
    "        f[a[i]] = {}\n",
    "    if(a[i] != y_true[i]):\n",
    "        if(y_true[i] not in f[a[i]].keys()):\n",
    "            f[a[i]][y_true[i]] = 0\n",
    "        f[a[i]][y_true[i]] += 1 "
   ]
  },
  {
   "cell_type": "code",
   "execution_count": 14,
   "metadata": {},
   "outputs": [
    {
     "data": {
      "text/plain": [
       "{0: {1: 3}, 2: {1: 14}}"
      ]
     },
     "execution_count": 14,
     "metadata": {},
     "output_type": "execute_result"
    }
   ],
   "source": [
    "f"
   ]
  },
  {
   "cell_type": "code",
   "execution_count": 15,
   "metadata": {
    "collapsed": true
   },
   "outputs": [],
   "source": [
    "from sklearn.metrics import classification_report"
   ]
  },
  {
   "cell_type": "code",
   "execution_count": null,
   "metadata": {
    "collapsed": true
   },
   "outputs": [],
   "source": []
  },
  {
   "cell_type": "code",
   "execution_count": 26,
   "metadata": {},
   "outputs": [
    {
     "name": "stdout",
     "output_type": "stream",
     "text": [
      "[{0: 16, 1: 0, 2: 0}, {0: 3, 1: 0, 2: 14}, {0: 0, 1: 0, 2: 17}]\n"
     ]
    }
   ],
   "source": [
    "ans = [{},{},{}]\n",
    "predicted = a.copy()\n",
    "\n",
    "for i in range(3):\n",
    "    for j in range(3):\n",
    "        ans[i][j] = 0\n",
    "\n",
    "for i in range(len(predicted)):\n",
    "    ans[y_true[i]][predicted[i]] = ans[y_true[i]][predicted[i]] + 1\n",
    "print(ans)"
   ]
  },
  {
   "cell_type": "code",
   "execution_count": null,
   "metadata": {
    "collapsed": true
   },
   "outputs": [],
   "source": []
  },
  {
   "cell_type": "code",
   "execution_count": 32,
   "metadata": {},
   "outputs": [
    {
     "data": {
      "image/png": "[encoded data removed]",
      "text/plain": [
       "<matplotlib.figure.Figure at 0x11c07d8d0>"
      ]
     },
     "metadata": {},
     "output_type": "display_data"
    }
   ],
   "source": [
    "from matplotlib import pyplot as plt\n",
    "import numpy as np\n",
    "\n",
    "a1 = f[0]\n",
    "\n",
    "vals = np.array([[ans[0][0], ans[0][1], ans[0][2]], [ans[1][0], ans[1][1], ans[1][2]], [ans[2][0], ans[2][1], ans[2][2]]])\n",
    "fig, ax = plt.subplots()\n",
    "ax.pie(vals.flatten(), radius=1.2,\n",
    "       colors=plt.rcParams[\"axes.prop_cycle\"].by_key()[\"color\"][:vals.shape[1]])\n",
    "ax.pie(vals.sum(axis=1), radius=1)\n",
    "ax.set(aspect=\"equal\", title='Pie plot with ax.pie')\n",
    "\n",
    "plt.show()"
   ]
  },
  {
   "cell_type": "code",
   "execution_count": null,
   "metadata": {
    "collapsed": true
   },
   "outputs": [],
   "source": []
  }
 ],
 "metadata": {
  "anaconda-cloud": {},
  "kernelspec": {
   "display_name": "Python3 (ml)",
   "language": "python",
   "name": "ml"
  },
  "language_info": {
   "codemirror_mode": {
    "name": "ipython",
    "version": 3
   },
   "file_extension": ".py",
   "mimetype": "text/x-python",
   "name": "python",
   "nbconvert_exporter": "python",
   "pygments_lexer": "ipython3",
   "version": "3.6.0"
  }
 },
 "nbformat": 4,
 "nbformat_minor": 2
}
