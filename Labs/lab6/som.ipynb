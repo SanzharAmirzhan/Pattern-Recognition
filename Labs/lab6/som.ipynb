{
 "cells": [
  {
   "cell_type": "code",
   "execution_count": 1,
   "metadata": {
    "collapsed": true
   },
   "outputs": [],
   "source": [
    "import numpy as np\n",
    "from sklearn import datasets\n",
    "from sklearn.preprocessing import StandardScaler\n",
    "\n",
    "import matplotlib.pyplot as plt\n",
    "import seaborn as sns\n",
    "sns.set()\n",
    "%matplotlib inline"
   ]
  },
  {
   "cell_type": "code",
   "execution_count": 2,
   "metadata": {
    "collapsed": true
   },
   "outputs": [],
   "source": [
    "iris = datasets.load_iris()"
   ]
  },
  {
   "cell_type": "code",
   "execution_count": 3,
   "metadata": {
    "collapsed": true
   },
   "outputs": [],
   "source": [
    "data = [[i[0], i[1]] for i in iris['data']]"
   ]
  },
  {
   "cell_type": "code",
   "execution_count": 6,
   "metadata": {
    "collapsed": true
   },
   "outputs": [],
   "source": [
    "data = np.array(data)"
   ]
  },
  {
   "cell_type": "code",
   "execution_count": 2,
   "metadata": {
    "collapsed": true
   },
   "outputs": [],
   "source": [
    "data = []\n",
    "a = np.random.random(size=(200, 2))*100+100\n",
    "data = np.concatenate([np.random.random(size=(200, 2)), a], axis=0)"
   ]
  },
  {
   "cell_type": "code",
   "execution_count": null,
   "metadata": {
    "collapsed": true
   },
   "outputs": [],
   "source": []
  },
  {
   "cell_type": "code",
   "execution_count": 4,
   "metadata": {
    "collapsed": true
   },
   "outputs": [],
   "source": [
    "x = np.linspace(-np.pi, np.pi, num=100)"
   ]
  },
  {
   "cell_type": "code",
   "execution_count": 5,
   "metadata": {
    "collapsed": true
   },
   "outputs": [],
   "source": [
    "y = np.sin(x)"
   ]
  },
  {
   "cell_type": "code",
   "execution_count": 6,
   "metadata": {
    "collapsed": true
   },
   "outputs": [],
   "source": [
    "data = np.array([[x[i], y[i]] for i in range(100)])"
   ]
  },
  {
   "cell_type": "code",
   "execution_count": 7,
   "metadata": {},
   "outputs": [
    {
     "data": {
      "text/plain": [
       "(100, 2)"
      ]
     },
     "execution_count": 7,
     "metadata": {},
     "output_type": "execute_result"
    }
   ],
   "source": [
    "data.shape"
   ]
  },
  {
   "cell_type": "code",
   "execution_count": null,
   "metadata": {
    "collapsed": true
   },
   "outputs": [],
   "source": []
  },
  {
   "cell_type": "code",
   "execution_count": 8,
   "metadata": {
    "collapsed": true
   },
   "outputs": [],
   "source": [
    "class SOM:\n",
    "    def __init__(self, data, sizeX=20, sizeY=20, epochs=100):\n",
    "        self.sizeX = sizeX\n",
    "        self.sizeY = sizeY\n",
    "        self.numNodes = sizeX * sizeY\n",
    "        self.weights = np.random.random(size=(sizeX*sizeY, data.shape[1]))*10\n",
    "        self.data = data\n",
    "        self.rad = 10\n",
    "        self.epochs = epochs\n",
    "    \n",
    "    def coords_to_index(self, x, y): \n",
    "        return x * self.sizeY + y\n",
    "    \n",
    "    def coord(self, x):\n",
    "        return (int(x / self.sizeX), x % self.sizeY)\n",
    "    \n",
    "    def decay_func(self, x0, t, epochs):\n",
    "        return x0 * np.exp(-2 * x0 * t / self.epochs)\n",
    "    \n",
    "    def neighbourhood_func(self, w1, w2, t): \n",
    "        return np.exp(-((w1[0] - w2[0])**2 + (w1[1] - w2[1])**2) / (2. * self.decay_func(self.rad, t, self.epochs)**2))\n",
    "    \n",
    "    def fit(self, rad=10, lambd=0.1):\n",
    "        for t in range(self.epochs):\n",
    "            for d in self.data:\n",
    "                i = np.argmin(np.sum((d - self.weights)**2, axis=1))\n",
    "                x, y = self.coord(i)\n",
    "                r = int(self.decay_func(rad, t, i))\n",
    "                for x_j in range(max(x - r, 0), min(x + r + 1, self.sizeX)):\n",
    "                    for y_j in range(max(y - r, 0), min(y + r + 1, self.sizeX)):\n",
    "                        j = self.coords_to_index(x_j, y_j)\n",
    "                        self.weights[j] += self.decay_func(lambd, t, self.epochs) * self.neighbourhood_func([x, y], [x_j, y_j], t) * (d - self.weights[j])"
   ]
  },
  {
   "cell_type": "code",
   "execution_count": 9,
   "metadata": {
    "collapsed": true
   },
   "outputs": [],
   "source": [
    "som = SOM(data)"
   ]
  },
  {
   "cell_type": "code",
   "execution_count": 10,
   "metadata": {
    "collapsed": true
   },
   "outputs": [],
   "source": [
    "som.fit()"
   ]
  },
  {
   "cell_type": "code",
   "execution_count": 11,
   "metadata": {},
   "outputs": [
    {
     "data": {
      "text/plain": [
       "<matplotlib.collections.PathCollection at 0x1121e4b38>"
      ]
     },
     "execution_count": 11,
     "metadata": {},
     "output_type": "execute_result"
    },
    {
     "data": {
      "image/png": "[encoded data removed]",
      "text/plain": [
       "<matplotlib.figure.Figure at 0x11216a240>"
      ]
     },
     "metadata": {},
     "output_type": "display_data"
    }
   ],
   "source": [
    "plt.scatter(som.data[:, 0], som.data[:, 1])"
   ]
  },
  {
   "cell_type": "code",
   "execution_count": 12,
   "metadata": {},
   "outputs": [
    {
     "data": {
      "text/plain": [
       "<matplotlib.collections.PathCollection at 0x1123412b0>"
      ]
     },
     "execution_count": 12,
     "metadata": {},
     "output_type": "execute_result"
    },
    {
     "data": {
      "image/png": "[encoded data removed]",
      "text/plain": [
       "<matplotlib.figure.Figure at 0x11219c3c8>"
      ]
     },
     "metadata": {},
     "output_type": "display_data"
    }
   ],
   "source": [
    "plt.scatter(som.weights[:, 0], [som.weights[:, 1]])"
   ]
  },
  {
   "cell_type": "code",
   "execution_count": null,
   "metadata": {
    "collapsed": true
   },
   "outputs": [],
   "source": []
  }
 ],
 "metadata": {
  "kernelspec": {
   "display_name": "Python3 (ml)",
   "language": "python",
   "name": "ml"
  },
  "language_info": {
   "codemirror_mode": {
    "name": "ipython",
    "version": 3
   },
   "file_extension": ".py",
   "mimetype": "text/x-python",
   "name": "python",
   "nbconvert_exporter": "python",
   "pygments_lexer": "ipython3",
   "version": "3.6.0"
  }
 },
 "nbformat": 4,
 "nbformat_minor": 2
}
