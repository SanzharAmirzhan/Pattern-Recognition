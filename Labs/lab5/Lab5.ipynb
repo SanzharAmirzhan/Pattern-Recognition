{
 "cells": [
  {
   "cell_type": "markdown",
   "metadata": {},
   "source": [
    "## Pattern recognition: Lab 5\n",
    "### Tasks:\n",
    "* Plot the error\n",
    "* Model XOR with the help of sigmoid\n",
    "* Add moments rule to learning equation\n"
   ]
  },
  {
   "cell_type": "code",
   "execution_count": 5,
   "metadata": {
    "collapsed": true
   },
   "outputs": [],
   "source": [
    "import matplotlib.pyplot as plt\n",
    "import seaborn as sns\n",
    "sns.set()\n",
    "%matplotlib inline"
   ]
  },
  {
   "cell_type": "code",
   "execution_count": 52,
   "metadata": {
    "collapsed": true
   },
   "outputs": [],
   "source": [
    "import numpy as np\n",
    "\n",
    "def sigmoid(x):\n",
    "    return 1.0/(1.0 + np.exp(-x))\n",
    "\n",
    "def sigmoid_prime(x):\n",
    "    return x*(1-x)\n",
    "\n",
    "def tanh(x):\n",
    "    return np.tanh(x)\n",
    "\n",
    "def tanh_prime(x):\n",
    "    return 1.0 - x**2\n",
    "\n",
    "\n",
    "class NeuralNetwork:\n",
    "\n",
    "    def __init__(self, layers):\n",
    "        self.activation = sigmoid\n",
    "        self.activation_prime = sigmoid_prime\n",
    "\n",
    "        # Set weights\n",
    "        self.weights = []\n",
    "        self.errors = []\n",
    "        # layers = [2,2,1]\n",
    "        # range of weight values (-1,1)\n",
    "        # input and hidden layers - random((2+1, 2+1)) : 3 x 3\n",
    "        for i in range(1, len(layers) - 1):\n",
    "            r = np.random.random((layers[i-1] + 1, layers[i] + 1))\n",
    "            self.weights.append(r)\n",
    "            # output layer - random((2+1, 1)) : 3 x 1\n",
    "            r = np.random.random((layers[i] + 1, layers[i+1]))\n",
    "            self.weights.append(r)\n",
    "\n",
    "    def fit(self, X, y, learning_rate=0.2, epochs=100000, moment=0.3):\n",
    "        # Add column of ones to X\n",
    "        # This is to add the bias unit to the input layer\n",
    "        ones = np.atleast_2d(np.ones(X.shape[0]))\n",
    "        X = np.concatenate((ones.T, X), axis=1)\n",
    "         \n",
    "        for k in range(epochs):            \n",
    "            allError = 0\n",
    "            for i in range(X.shape[0]):\n",
    "                a = [X[i]]\n",
    "                \n",
    "                for l in range(len(self.weights)):\n",
    "                    dot_value = np.dot(a[l], self.weights[l])\n",
    "                    activation = self.activation(dot_value)\n",
    "                    a.append(activation)\n",
    "\n",
    "                # output layer\n",
    "                error = y[i] - a[-1]\n",
    "                \n",
    "                deltas = [error * self.activation_prime(a[-1])]\n",
    "                \n",
    "                allError += np.abs(error)\n",
    "\n",
    "                # we need to begin at the second to last layer \n",
    "                # (a layer before the output layer)\n",
    "                for l in range(len(a) - 2, 0, -1):\n",
    "                    deltas.append(deltas[-1].dot(self.weights[l].T)*self.activation_prime(a[l]))\n",
    "                \n",
    "                # reverse\n",
    "                # [level3(output)->level2(hidden)]  => [level2(hidden)->level3(output)]\n",
    "                deltas.reverse()\n",
    "\n",
    "                # backpropagation\n",
    "                # 1. Multiply its output delta and input activation \n",
    "                #    to get the gradient of the weight.\n",
    "                # 2. Subtract a ratio (percentage) of the gradient from the weight.\n",
    "                \n",
    "                prevW = []\n",
    "                prevW.append(np.zeros((3,3)))\n",
    "                prevW.append(np.zeros((3,1)))\n",
    "                for i in range(len(self.weights)):\n",
    "                    layer = np.atleast_2d(a[i])\n",
    "                    delta = np.atleast_2d(deltas[i])\n",
    "                    self.weights[i] += learning_rate * (layer.T.dot(delta) - moment*prevW[i])\n",
    "                    self.weights[i] += moment * prevW[i]\n",
    "                    prevW[i] = learning_rate * layer.T.dot(delta)\n",
    "                    \n",
    "                        \n",
    "            self.errors.append(allError/4)\n",
    "            if(k % 10000 == 0): \n",
    "                print('epochs:', k)\n",
    "\n",
    "    def predict(self, x): \n",
    "    \n",
    "        a = np.concatenate((np.ones(1).T, np.array(x)))      \n",
    "\n",
    "        for l in range(0, len(self.weights)):\n",
    "            a = self.activation(np.dot(a, self.weights[l]))\n",
    "        return a "
   ]
  },
  {
   "cell_type": "code",
   "execution_count": 53,
   "metadata": {},
   "outputs": [
    {
     "name": "stdout",
     "output_type": "stream",
     "text": [
      "epochs: 0\n",
      "epochs: 10000\n",
      "epochs: 20000\n",
      "epochs: 30000\n",
      "epochs: 40000\n",
      "epochs: 50000\n",
      "epochs: 60000\n",
      "epochs: 70000\n",
      "epochs: 80000\n",
      "epochs: 90000\n",
      "[0 0] [ 0.0057178]\n",
      "[0 1] [ 0.99081499]\n",
      "[1 0] [ 0.99278115]\n",
      "[1 1] [ 0.00888151]\n"
     ]
    }
   ],
   "source": [
    "nn = NeuralNetwork([2,2,1])\n",
    "X = np.array([[0, 0],\n",
    "              [0, 1],\n",
    "              [1, 0],\n",
    "              [1, 1]])\n",
    "y = np.array([0, 1, 1, 0])\n",
    "nn.fit(X, y)\n",
    "for e in X:\n",
    "    print(e,nn.predict(e))"
   ]
  },
  {
   "cell_type": "code",
   "execution_count": null,
   "metadata": {
    "collapsed": true
   },
   "outputs": [],
   "source": []
  },
  {
   "cell_type": "code",
   "execution_count": 49,
   "metadata": {},
   "outputs": [
    {
     "data": {
      "image/png": "[encoded data removed]",
      "text/plain": [
       "<matplotlib.figure.Figure at 0x10934f4e0>"
      ]
     },
     "metadata": {},
     "output_type": "display_data"
    }
   ],
   "source": [
    "plt.figure(figsize=(15,5))\n",
    "plt.plot(range(len(nn.errors)), nn.errors)\n",
    "plt.show()"
   ]
  },
  {
   "cell_type": "code",
   "execution_count": null,
   "metadata": {
    "collapsed": true
   },
   "outputs": [],
   "source": []
  }
 ],
 "metadata": {
  "anaconda-cloud": {},
  "kernelspec": {
   "display_name": "Python3 (ml)",
   "language": "python",
   "name": "ml"
  },
  "language_info": {
   "codemirror_mode": {
    "name": "ipython",
    "version": 3
   },
   "file_extension": ".py",
   "mimetype": "text/x-python",
   "name": "python",
   "nbconvert_exporter": "python",
   "pygments_lexer": "ipython3",
   "version": "3.6.0"
  }
 },
 "nbformat": 4,
 "nbformat_minor": 2
}
