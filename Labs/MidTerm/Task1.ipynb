{
 "cells": [
  {
   "cell_type": "code",
   "execution_count": 1,
   "metadata": {
    "collapsed": true
   },
   "outputs": [],
   "source": [
    "from pyDatalog import pyDatalog\n",
    "from pyDatalog import pyEngine"
   ]
  },
  {
   "cell_type": "markdown",
   "metadata": {},
   "source": [
    "* (A∨¬A)↔B\n",
    "* A∨B\n",
    "* (A→B)∧(B→A)\n",
    "* (A∨(B∧¬A))∨(A∨¬(B∨A))"
   ]
  },
  {
   "cell_type": "code",
   "execution_count": 2,
   "metadata": {
    "collapsed": true
   },
   "outputs": [],
   "source": [
    "def task1(a, b):\n",
    "    return ((a or not a) == b)\n",
    "\n",
    "def task2(a, b):\n",
    "    return (a or b)\n",
    "\n",
    "def task3(a, b):\n",
    "    return (not a or b) and (not b or a)\n",
    "\n",
    "def task4(a, b):\n",
    "    return (a or (b and not a)) or (a or not(b or a))"
   ]
  },
  {
   "cell_type": "code",
   "execution_count": 3,
   "metadata": {
    "collapsed": true
   },
   "outputs": [],
   "source": [
    "pyDatalog.create_terms('a, b, X, Y, Z, task1, task2, task3, task4')"
   ]
  },
  {
   "cell_type": "code",
   "execution_count": 4,
   "metadata": {},
   "outputs": [
    {
     "name": "stdout",
     "output_type": "stream",
     "text": [
      "X | Y | Z    \n",
      "--|---|------\n",
      "1 | 1 | True \n",
      "1 | 0 | False\n",
      "0 | 1 | True \n",
      "0 | 0 | False\n"
     ]
    }
   ],
   "source": [
    "print(X.in_(range(2)) & Y.in_(range(2)) & (Z==task1(X, Y)))"
   ]
  },
  {
   "cell_type": "code",
   "execution_count": 5,
   "metadata": {},
   "outputs": [
    {
     "name": "stdout",
     "output_type": "stream",
     "text": [
      "X | Y | Z\n",
      "--|---|--\n",
      "1 | 1 | 1\n",
      "1 | 0 | 1\n",
      "0 | 1 | 1\n",
      "0 | 0 | 0\n"
     ]
    }
   ],
   "source": [
    "print(X.in_(range(2)) & Y.in_(range(2)) & (Z==task2(X, Y)))"
   ]
  },
  {
   "cell_type": "code",
   "execution_count": 6,
   "metadata": {},
   "outputs": [
    {
     "name": "stdout",
     "output_type": "stream",
     "text": [
      "X | Y | Z\n",
      "--|---|--\n",
      "1 | 1 | 1\n",
      "1 | 0 | 0\n",
      "0 | 1 | 0\n",
      "0 | 0 | 1\n"
     ]
    }
   ],
   "source": [
    "print(X.in_(range(2)) & Y.in_(range(2)) & (Z==task3(X, Y)))"
   ]
  },
  {
   "cell_type": "code",
   "execution_count": 7,
   "metadata": {},
   "outputs": [
    {
     "name": "stdout",
     "output_type": "stream",
     "text": [
      "X | Y | Z\n",
      "--|---|--\n",
      "1 | 1 | 1\n",
      "1 | 0 | 1\n",
      "0 | 1 | 1\n",
      "0 | 0 | 1\n"
     ]
    }
   ],
   "source": [
    "print(X.in_(range(2)) & Y.in_(range(2)) & (Z==task4(X, Y)))"
   ]
  },
  {
   "cell_type": "code",
   "execution_count": null,
   "metadata": {
    "collapsed": true
   },
   "outputs": [],
   "source": []
  }
 ],
 "metadata": {
  "kernelspec": {
   "display_name": "Python3 (ml)",
   "language": "python",
   "name": "ml"
  },
  "language_info": {
   "codemirror_mode": {
    "name": "ipython",
    "version": 3
   },
   "file_extension": ".py",
   "mimetype": "text/x-python",
   "name": "python",
   "nbconvert_exporter": "python",
   "pygments_lexer": "ipython3",
   "version": "3.6.0"
  }
 },
 "nbformat": 4,
 "nbformat_minor": 2
}
