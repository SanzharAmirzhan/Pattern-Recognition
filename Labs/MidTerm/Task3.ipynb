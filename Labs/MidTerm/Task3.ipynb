{
 "cells": [
  {
   "cell_type": "code",
   "execution_count": 1,
   "metadata": {
    "collapsed": true
   },
   "outputs": [],
   "source": [
    "from pyDatalog import pyDatalog\n",
    "from pyDatalog import pyEngine"
   ]
  },
  {
   "cell_type": "code",
   "execution_count": 2,
   "metadata": {
    "collapsed": true
   },
   "outputs": [],
   "source": [
    "pyDatalog.create_terms('X,Y,Z,U,W, married,son,getson,grandpa')"
   ]
  },
  {
   "cell_type": "markdown",
   "metadata": {},
   "source": [
    "1 - \"man\"<br>\n",
    "2 - \"wife\"<br>\n",
    "3 - \"father\"<br>\n",
    "4 - \"wife's daughter\"<br>\n",
    "5 - \"my son\"<br>\n",
    "6 - \"father's son\""
   ]
  },
  {
   "cell_type": "code",
   "execution_count": 3,
   "metadata": {},
   "outputs": [
    {
     "data": {
      "text/plain": [
       "married(X,Y) <= married(Y,X)"
      ]
     },
     "execution_count": 3,
     "metadata": {},
     "output_type": "execute_result"
    }
   ],
   "source": [
    "+married(1, 2)\n",
    "+married(3, 4)\n",
    "\n",
    "married(X,Y) <= married(Y,X)"
   ]
  },
  {
   "cell_type": "code",
   "execution_count": 4,
   "metadata": {},
   "outputs": [
    {
     "name": "stdout",
     "output_type": "stream",
     "text": [
      "X | Y\n",
      "--|--\n",
      "2 | 1\n",
      "1 | 2\n",
      "4 | 3\n",
      "3 | 4\n"
     ]
    }
   ],
   "source": [
    "print(married(X, Y))"
   ]
  },
  {
   "cell_type": "markdown",
   "metadata": {},
   "source": [
    "son(x, y) = x parent of y"
   ]
  },
  {
   "cell_type": "code",
   "execution_count": 5,
   "metadata": {},
   "outputs": [
    {
     "data": {
      "text/plain": [
       "son(X,Y) <= son(X,Y)"
      ]
     },
     "execution_count": 5,
     "metadata": {},
     "output_type": "execute_result"
    }
   ],
   "source": [
    "+son(1, 5)\n",
    "+son(2, 5)\n",
    "+son(3, 6)\n",
    "+son(4, 6)\n",
    "+son(3, 1)\n",
    "+son(2, 4)\n",
    "\n",
    "son(X,Y) <= son(X, Y)"
   ]
  },
  {
   "cell_type": "code",
   "execution_count": 6,
   "metadata": {},
   "outputs": [
    {
     "name": "stdout",
     "output_type": "stream",
     "text": [
      "X | Y\n",
      "--|--\n",
      "1 | 5\n",
      "2 | 5\n",
      "3 | 6\n",
      "4 | 6\n",
      "3 | 1\n",
      "2 | 4\n"
     ]
    }
   ],
   "source": [
    "print(son(X, Y))"
   ]
  },
  {
   "cell_type": "code",
   "execution_count": 7,
   "metadata": {},
   "outputs": [
    {
     "data": {
      "text/plain": [
       "son(Z,Y) <= son(X,Y)&married(X,Z)"
      ]
     },
     "execution_count": 7,
     "metadata": {},
     "output_type": "execute_result"
    }
   ],
   "source": [
    "son(Z, Y) <= son(X, Y) & married(X, Z) "
   ]
  },
  {
   "cell_type": "code",
   "execution_count": 8,
   "metadata": {},
   "outputs": [
    {
     "name": "stdout",
     "output_type": "stream",
     "text": [
      "X | Y\n",
      "--|--\n",
      "1 | 5\n",
      "2 | 5\n",
      "3 | 6\n",
      "4 | 6\n",
      "4 | 1\n",
      "3 | 1\n",
      "1 | 4\n",
      "2 | 4\n"
     ]
    }
   ],
   "source": [
    "print(son(X, Y))"
   ]
  },
  {
   "cell_type": "code",
   "execution_count": 9,
   "metadata": {},
   "outputs": [
    {
     "data": {
      "text/plain": [
       "grandpa(X,Y) <= son(Z,Y)&son(X,Z)"
      ]
     },
     "execution_count": 9,
     "metadata": {},
     "output_type": "execute_result"
    }
   ],
   "source": [
    "grandpa(X, Y) <= son(Z, Y) & son(X, Z)"
   ]
  },
  {
   "cell_type": "code",
   "execution_count": 10,
   "metadata": {},
   "outputs": [
    {
     "name": "stdout",
     "output_type": "stream",
     "text": [
      "X | Y\n",
      "--|--\n",
      "4 | 5\n",
      "3 | 5\n",
      "1 | 6\n",
      "2 | 6\n",
      "1 | 1\n",
      "2 | 1\n",
      "4 | 4\n",
      "3 | 4\n"
     ]
    }
   ],
   "source": [
    "print(grandpa(X, Y))"
   ]
  },
  {
   "cell_type": "code",
   "execution_count": 11,
   "metadata": {},
   "outputs": [
    {
     "name": "stdout",
     "output_type": "stream",
     "text": [
      "grandfather to it self\n"
     ]
    }
   ],
   "source": [
    "if(grandpa(1, 1)):\n",
    "    print('grandfather to it self')"
   ]
  },
  {
   "cell_type": "code",
   "execution_count": null,
   "metadata": {
    "collapsed": true
   },
   "outputs": [],
   "source": []
  }
 ],
 "metadata": {
  "kernelspec": {
   "display_name": "Python3 (ml)",
   "language": "python",
   "name": "ml"
  },
  "language_info": {
   "codemirror_mode": {
    "name": "ipython",
    "version": 3
   },
   "file_extension": ".py",
   "mimetype": "text/x-python",
   "name": "python",
   "nbconvert_exporter": "python",
   "pygments_lexer": "ipython3",
   "version": "3.6.0"
  }
 },
 "nbformat": 4,
 "nbformat_minor": 2
}
